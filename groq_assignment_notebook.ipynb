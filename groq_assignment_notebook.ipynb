{
  "cells": [
    {
      "cell_type": "markdown",
      "metadata": {
        "id": "view-in-github",
        "colab_type": "text"
      },
      "source": [
        "<a href=\"https://colab.research.google.com/github/DwarakaMadhu/Data-sts-cohere-api/blob/main/groq_assignment_notebook.ipynb\" target=\"_parent\"><img src=\"https://colab.research.google.com/assets/colab-badge.svg\" alt=\"Open In Colab\"/></a>"
      ]
    },
    {
      "cell_type": "code",
      "execution_count": null,
      "id": "0f452cea",
      "metadata": {
        "colab": {
          "base_uri": "https://localhost:8080/"
        },
        "id": "0f452cea",
        "outputId": "665de3cf-33d8-4238-e450-07395563d1fb"
      },
      "outputs": [
        {
          "output_type": "stream",
          "name": "stdout",
          "text": [
            " Mock Groq client ready\n"
          ]
        }
      ],
      "source": [
        "# === Setup ===\n",
        "from typing import List, Dict, Any\n",
        "import json\n",
        "\n",
        "# Mock Groq client (replace with actual Groq API client for real use)\n",
        "class GroqClientMock:\n",
        "    def summarize(self, text: str) -> str:\n",
        "        # Fake summarization for demo purposes\n",
        "        return f\"Summary: {text[:60]}...\"\n",
        "\n",
        "    def classify_and_extract(self, text: str) -> Dict[str, Any]:\n",
        "        # Simple heuristic-based mock extractor\n",
        "        out = {\"name\": None, \"email\": None, \"phone\": None, \"location\": None, \"age\": None}\n",
        "        if \"John\" in text:\n",
        "            out[\"name\"] = \"John Doe\"\n",
        "        if \"@\" in text:\n",
        "            out[\"email\"] = \"john@example.com\"\n",
        "        if \"12345\" in text:\n",
        "            out[\"phone\"] = \"12345\"\n",
        "        if \"NYC\" in text:\n",
        "            out[\"location\"] = \"New York\"\n",
        "        if \"25\" in text:\n",
        "            out[\"age\"] = 25\n",
        "        return out\n",
        "\n",
        "client = GroqClientMock()\n",
        "print(\" Mock Groq client ready\")"
      ]
    },
    {
      "cell_type": "markdown",
      "id": "e9a97428",
      "metadata": {
        "id": "e9a97428"
      },
      "source": [
        "## Task 1: Managing Conversation History with Summarization"
      ]
    },
    {
      "cell_type": "code",
      "execution_count": null,
      "id": "f429c857",
      "metadata": {
        "colab": {
          "base_uri": "https://localhost:8080/"
        },
        "id": "f429c857",
        "outputId": "9b6cd2e0-5157-4c92-8ec9-65abb23d5735"
      },
      "outputs": [
        {
          "output_type": "stream",
          "name": "stdout",
          "text": [
            "After 3rd message (summarized):\n",
            "system: Summary: user: Hi, I need help with my subscription.\n",
            "assistant: Sure,...\n",
            "\n",
            "After 4th message:\n",
            "system: Summary: user: Hi, I need help with my subscription.\n",
            "assistant: Sure,...\n",
            "assistant: Thanks. We'll issue a refund.\n",
            "\n",
            "Truncated to last 2 messages:\n",
            "system: Summary: user: Hi, I need help with my subscription.\n",
            "assistant: Sure,...\n",
            "assistant: Thanks. We'll issue a refund.\n"
          ]
        }
      ],
      "source": [
        "# Conversation Manager\n",
        "class ConversationManager:\n",
        "    def __init__(self, client, k: int = 3):\n",
        "        self.client = client\n",
        "        self.history: List[Dict[str, str]] = []\n",
        "        self.turn_count = 0\n",
        "        self.k = k  # periodic summarization threshold\n",
        "\n",
        "    def add_message(self, role: str, text: str):\n",
        "        self.history.append({\"role\": role, \"text\": text})\n",
        "        self.turn_count += 1\n",
        "\n",
        "        # Periodic summarization after k turns\n",
        "        if self.turn_count % self.k == 0:\n",
        "            self.summarize_history()\n",
        "\n",
        "    def summarize_history(self):\n",
        "        full_text = \"\\n\".join([f\"{m['role']}: {m['text']}\" for m in self.history])\n",
        "        summary = self.client.summarize(full_text)\n",
        "        self.history = [{\"role\": \"system\", \"text\": summary}]\n",
        "\n",
        "    def get_history(self, last_n: int = None, max_chars: int = None) -> str:\n",
        "        \"\"\"Return truncated history\"\"\"\n",
        "        text = \"\\n\".join([f\"{m['role']}: {m['text']}\" for m in self.history])\n",
        "        if last_n:\n",
        "            text = \"\\n\".join([f\"{m['role']}: {m['text']}\" for m in self.history[-last_n:]])\n",
        "        if max_chars:\n",
        "            text = text[:max_chars]\n",
        "        return text\n",
        "\n",
        "# Demo conversation\n",
        "conv = ConversationManager(client, k=3)\n",
        "conv.add_message(\"user\", \"Hi, I need help with my subscription.\")\n",
        "conv.add_message(\"assistant\", \"Sure, can you provide your order ID?\")\n",
        "conv.add_message(\"user\", \"Order 12345. I was charged twice.\")\n",
        "\n",
        "print(\"After 3rd message (summarized):\")\n",
        "print(conv.get_history())\n",
        "\n",
        "conv.add_message(\"assistant\", \"Thanks. We'll issue a refund.\")\n",
        "print(\"\\nAfter 4th message:\")\n",
        "print(conv.get_history())\n",
        "\n",
        "print(\"\\nTruncated to last 2 messages:\")\n",
        "print(conv.get_history(last_n=2))"
      ]
    },
    {
      "cell_type": "markdown",
      "id": "e5d0a55b",
      "metadata": {
        "id": "e5d0a55b"
      },
      "source": [
        "## Task 2: JSON Schema Classification & Information Extraction"
      ]
    },
    {
      "cell_type": "code",
      "execution_count": null,
      "id": "a4f12e35",
      "metadata": {
        "colab": {
          "base_uri": "https://localhost:8080/"
        },
        "id": "a4f12e35",
        "outputId": "4992d880-28d5-4ac8-ee69-fdb025383a80"
      },
      "outputs": [
        {
          "output_type": "stream",
          "name": "stdout",
          "text": [
            "--- Chat 1 ---\n",
            "Extracted: {\n",
            "  \"name\": \"John Doe\",\n",
            "  \"email\": \"john@example.com\",\n",
            "  \"phone\": null,\n",
            "  \"location\": \"New York\",\n",
            "  \"age\": 25\n",
            "}\n",
            "Schema valid? True\n",
            "--- Chat 2 ---\n",
            "Extracted: {\n",
            "  \"name\": null,\n",
            "  \"email\": \"john@example.com\",\n",
            "  \"phone\": \"12345\",\n",
            "  \"location\": null,\n",
            "  \"age\": null\n",
            "}\n",
            "Schema valid? True\n",
            "--- Chat 3 ---\n",
            "Extracted: {\n",
            "  \"name\": null,\n",
            "  \"email\": null,\n",
            "  \"phone\": null,\n",
            "  \"location\": \"New York\",\n",
            "  \"age\": null\n",
            "}\n",
            "Schema valid? True\n"
          ]
        }
      ],
      "source": [
        "# JSON schema for validation\n",
        "schema = {\n",
        "    \"name\": str,\n",
        "    \"email\": str,\n",
        "    \"phone\": str,\n",
        "    \"location\": str,\n",
        "    \"age\": int,\n",
        "}\n",
        "\n",
        "def validate_schema(data: Dict[str, Any], schema: Dict[str, Any]) -> bool:\n",
        "    for key, typ in schema.items():\n",
        "        if key not in data:\n",
        "            return False\n",
        "        if data[key] is not None and not isinstance(data[key], typ):\n",
        "            return False\n",
        "    return True\n",
        "\n",
        "# Sample chats\n",
        "sample_chats = [\n",
        "    \"Hello, I'm John and my email is john@example.com. I live in NYC and I'm 25 years old.\",\n",
        "    \"My name is Alice. Contact me at alice@mail.com, phone 12345.\",\n",
        "    \"This is Bob. I'm from NYC.\"\n",
        "]\n",
        "\n",
        "for i, chat in enumerate(sample_chats, 1):\n",
        "    extracted = client.classify_and_extract(chat)\n",
        "    valid = validate_schema(extracted, schema)\n",
        "    print(f\"--- Chat {i} ---\")\n",
        "    print(\"Extracted:\", json.dumps(extracted, indent=2))\n",
        "    print(\"Schema valid?\", valid)"
      ]
    },
    {
      "cell_type": "code",
      "source": [
        "import base64\n",
        "import os\n",
        "import requests\n",
        "\n",
        "def push_to_github(filepath='/mnt/data/groq_assignment_notebook.ipynb', repo_env='GITHUB_REPO'):\n",
        "    token = os.getenv('GITHUB_TOKEN')\n",
        "    repo = os.getenv(repo_env)\n",
        "    if not token or not repo:\n",
        "        raise EnvironmentError('Set GITHUB_TOKEN and GITHUB_REPO environment variables first')\n",
        "    with open(filepath,'rb') as f:\n",
        "        content_b = f.read()\n",
        "    content = base64.b64encode(content_b).decode('utf-8')\n",
        "    url = f'https://api.github.com/repos/{repo}/contents/{os.path.basename(filepath)}'\n",
        "    data = {\n",
        "        'message': 'Add Groq assignment notebook',\n",
        "        'content': content\n",
        "    }\n",
        "    headers = {'Authorization': f'token {token}'}\n",
        "    resp = requests.put(url, json=data, headers=headers)\n",
        "    return resp.status_code, resp.json()\n",
        "\n",
        "print('push_to_github function ready')"
      ],
      "metadata": {
        "colab": {
          "base_uri": "https://localhost:8080/"
        },
        "id": "qr0vsHcXTFjx",
        "outputId": "1bb39964-9597-4b1d-fa23-016631db94f0"
      },
      "id": "qr0vsHcXTFjx",
      "execution_count": 5,
      "outputs": [
        {
          "output_type": "stream",
          "name": "stdout",
          "text": [
            "push_to_github function ready\n"
          ]
        }
      ]
    }
  ],
  "metadata": {
    "colab": {
      "provenance": [],
      "include_colab_link": true
    },
    "language_info": {
      "name": "python"
    },
    "kernelspec": {
      "name": "python3",
      "display_name": "Python 3"
    }
  },
  "nbformat": 4,
  "nbformat_minor": 5
}