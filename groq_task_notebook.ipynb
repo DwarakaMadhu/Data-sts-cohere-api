{
  "cells": [
    {
      "cell_type": "markdown",
      "metadata": {
        "id": "view-in-github",
        "colab_type": "text"
      },
      "source": [
        "<a href=\"https://colab.research.google.com/github/DwarakaMadhu/Data-sts-cohere-api/blob/main/groq_task_notebook.ipynb\" target=\"_parent\"><img src=\"https://colab.research.google.com/assets/colab-badge.svg\" alt=\"Open In Colab\"/></a>"
      ]
    },
    {
      "cell_type": "markdown",
      "id": "a94bf30c",
      "metadata": {
        "id": "a94bf30c"
      },
      "source": [
        "# Groq APIs assignment — Colab notebook\n",
        "\n",
        "This notebook implements two core tasks using Groq APIs with OpenAI-SDK-compatible call patterns:\n",
        "\n",
        "1. Conversational data management & summarization.\n",
        "2. Chat classification & structured extraction.\n",
        "\n",
        "Includes runnable code, a mock Groq client for offline testing, sample chat data, and optional GitHub upload code.\n"
      ]
    },
    {
      "cell_type": "code",
      "execution_count": 44,
      "id": "10124edc",
      "metadata": {
        "id": "10124edc"
      },
      "outputs": [],
      "source": [
        "# Install required libraries (run in Colab)\n",
        "!pip install --quiet tiktoken sentencepiece nbformat --upgrade\n",
        "\n",
        "import os, json\n",
        "from typing import Dict\n"
      ]
    },
    {
      "cell_type": "code",
      "source": [
        "# Save as helper (can be moved to a separate file if needed)\n",
        "class GroqClientMock:\n",
        "    def __init__(self):\n",
        "        pass\n",
        "\n",
        "    def summarize(self, text: str) -> str:\n",
        "        \"\"\"Very simple summarizer\"\"\"\n",
        "        words = text.split()\n",
        "        return \" \".join(words[:20]) + (\"...\" if len(words) > 20 else \"\")\n",
        "\n",
        "    def classify(self, text: str) -> dict:\n",
        "        \"\"\"Very simple classifier with keywords\"\"\"\n",
        "        low = text.lower()\n",
        "        if \"refund\" in low or \"charged\" in low or \"payment\" in low:\n",
        "            return {\"categories\": [\"billing_issue\"], \"confidence\": 0.9}\n",
        "        elif \"export\" in low or \"import\" in low:\n",
        "            return {\"categories\": [\"feature_request\"], \"confidence\": 0.85}\n",
        "        elif \"hello\" in low or \"hi\" in low:\n",
        "            return {\"categories\": [\"greeting\"], \"confidence\": 0.8}\n",
        "        else:\n",
        "            return {\"categories\": [\"general\"], \"confidence\": 0.5}\n",
        "\n",
        "    def classify_and_extract(self, text: str) -> dict:\n",
        "        \"\"\"Combine classification and summarization\"\"\"\n",
        "        classification = self.classify(text)\n",
        "        summary = self.summarize(text)\n",
        "        return {\n",
        "            \"categories\": classification[\"categories\"],\n",
        "            \"confidence\": classification[\"confidence\"],\n",
        "            \"summary\": summary\n",
        "        }\n"
      ],
      "metadata": {
        "id": "hb0zvc-Q224g"
      },
      "id": "hb0zvc-Q224g",
      "execution_count": 45,
      "outputs": []
    },
    {
      "cell_type": "code",
      "execution_count": 46,
      "id": "068af9dd",
      "metadata": {
        "colab": {
          "base_uri": "https://localhost:8080/"
        },
        "id": "068af9dd",
        "outputId": "673e1866-5275-4994-fd7c-4103bb56966b"
      },
      "outputs": [
        {
          "output_type": "stream",
          "name": "stdout",
          "text": [
            "Wrote groq_task_helpers.py to groq_task_helpers.py\n"
          ]
        }
      ],
      "source": [
        "\n",
        "\n",
        "# Use no leading folder — writes next to your notebook\n",
        "helper_path = 'groq_task_helpers.py'\n",
        "with open(helper_path, 'w', encoding='utf-8') as f:\n",
        "    f.write(helper_code)\n",
        "print('Wrote groq_task_helpers.py to', helper_path)\n"
      ]
    },
    {
      "cell_type": "code",
      "execution_count": 47,
      "id": "7b02401b",
      "metadata": {
        "colab": {
          "base_uri": "https://localhost:8080/"
        },
        "id": "7b02401b",
        "outputId": "d7d147dc-e5c0-4c43-ba3c-d48b61efa9d6"
      },
      "outputs": [
        {
          "output_type": "stream",
          "name": "stdout",
          "text": [
            "GroqClientMock loaded\n"
          ]
        }
      ],
      "source": [
        "from groq_task_helpers import GroqClientMock\n",
        "client = GroqClientMock()\n",
        "print('GroqClientMock loaded')\n"
      ]
    },
    {
      "cell_type": "code",
      "execution_count": 48,
      "id": "7c54140d",
      "metadata": {
        "colab": {
          "base_uri": "https://localhost:8080/"
        },
        "id": "7c54140d",
        "outputId": "e89793b8-e6bf-4801-9413-31f5b9f9dd43"
      },
      "outputs": [
        {
          "output_type": "stream",
          "name": "stdout",
          "text": [
            "Sample chats prepared \n"
          ]
        }
      ],
      "source": [
        "from typing import Dict\n",
        "sample_chats = [\n",
        "    {\n",
        "        'id': 'chat_001',\n",
        "        'messages': [\n",
        "            {'role': 'user', 'text': 'Hi, I need help with my subscription. I was charged twice.'},\n",
        "            {'role': 'assistant', 'text': 'Sorry to hear that — can you share the order id?'},\n",
        "            {'role': 'user', 'text': 'Order 12345. I also want to know if I can get a refund.'}\n",
        "        ]\n",
        "    },\n",
        "    {\n",
        "        'id': 'chat_002',\n",
        "        'messages': [\n",
        "            {'role': 'user', 'text': 'Does your product support CSV export and bulk import?'},\n",
        "            {'role': 'assistant', 'text': 'Yes — CSV export is available in settings.'}\n",
        "        ]\n",
        "    }\n",
        "]\n",
        "\n",
        "print(\"Sample chats prepared \")\n"
      ]
    },
    {
      "cell_type": "code",
      "execution_count": 49,
      "id": "ad51ad48",
      "metadata": {
        "id": "ad51ad48"
      },
      "outputs": [],
      "source": [
        "from typing import Dict, List\n",
        "\n",
        "class GroqClientMock:\n",
        "    def summarize(self, text: str) -> str:\n",
        "        \"\"\"Very simple summarizer (mock).\"\"\"\n",
        "        if \"refund\" in text or \"payment\" in text:\n",
        "            return \"User has a billing issue about refund/payment.\"\n",
        "        elif \"CSV\" in text or \"export\" in text:\n",
        "            return \"User is asking about product CSV export features.\"\n",
        "        else:\n",
        "            return \"General user query.\"\n",
        "\n",
        "    def classify_and_extract(self, text: str) -> Dict:\n",
        "        \"\"\"Mock classification + extraction with summary + categories.\"\"\"\n",
        "        if \"refund\" in text or \"payment\" in text:\n",
        "            return {\n",
        "                \"categories\": [\"billing_issue\"],   # ✅ plural key\n",
        "                \"summary\": \"User has a billing issue about refund/payment.\",  # ✅ added\n",
        "                \"entities\": [\"refund\", \"payment\"],\n",
        "                \"confidence\": 0.9\n",
        "            }\n",
        "        elif \"CSV\" in text or \"export\" in text:\n",
        "            return {\n",
        "                \"categories\": [\"feature_request\"],\n",
        "                \"summary\": \"User is asking about CSV export feature.\",\n",
        "                \"entities\": [\"CSV\", \"export\"],\n",
        "                \"confidence\": 0.85\n",
        "            }\n",
        "        else:\n",
        "            return {\n",
        "                \"categories\": [\"general\"],\n",
        "                \"summary\": \"General user question.\",\n",
        "                \"entities\": [],\n",
        "                \"confidence\": 0.7\n",
        "            }\n",
        "\n"
      ]
    },
    {
      "cell_type": "code",
      "execution_count": 50,
      "id": "76d3c0ce",
      "metadata": {
        "colab": {
          "base_uri": "https://localhost:8080/"
        },
        "id": "76d3c0ce",
        "outputId": "99c49d32-3db9-4e5c-faf2-673b1b269f41"
      },
      "outputs": [
        {
          "output_type": "stream",
          "name": "stdout",
          "text": [
            "Output for chat_001 : {'categories': ['billing_issue'], 'summary': 'User has a billing issue about refund/payment.', 'entities': ['refund', 'payment'], 'confidence': 0.9}\n",
            "Output for chat_002 : {'categories': ['feature_request'], 'summary': 'User is asking about CSV export feature.', 'entities': ['CSV', 'export'], 'confidence': 0.85}\n",
            "Basic checks passed\n"
          ]
        }
      ],
      "source": [
        "\n",
        "client = GroqClientMock()\n",
        "def classify_and_extract_chat(chat: Dict, client: GroqClientMock) -> Dict:\n",
        "    text = chat_to_text(chat)\n",
        "    return client.classify_and_extract(text)\n",
        "\n",
        "# now outside the function\n",
        "for c in sample_chats:\n",
        "    out = classify_and_extract_chat(c, client)\n",
        "    print(\"Output for\", c['id'], \":\", out)   # 👀 see what the dictionary looks like\n",
        "    assert 'categories' in out and 'summary' in out\n",
        "\n",
        "print('Basic checks passed')\n",
        "\n",
        "\n",
        "\n",
        "\n",
        "\n",
        "\n"
      ]
    },
    {
      "cell_type": "code",
      "execution_count": 51,
      "id": "1dfd4d0a",
      "metadata": {
        "colab": {
          "base_uri": "https://localhost:8080/"
        },
        "id": "1dfd4d0a",
        "outputId": "57deeed5-be05-4b17-c3a0-1adcb05dabd8"
      },
      "outputs": [
        {
          "output_type": "stream",
          "name": "stdout",
          "text": [
            "Basic checks passed \n"
          ]
        }
      ],
      "source": [
        "## Quick checks\n",
        "assert isinstance(sample_chats, list)\n",
        "for c in sample_chats:\n",
        "    out = classify_and_extract_chat(c, client)\n",
        "    assert 'categories' in out and 'summary' in out\n",
        "print('Basic checks passed ')\n",
        "\n",
        "\n"
      ]
    },
    {
      "cell_type": "markdown",
      "id": "e3bcf7d0",
      "metadata": {
        "id": "e3bcf7d0"
      },
      "source": [
        "## GitHub upload (optional)\n",
        "\n",
        "To push this notebook to GitHub programmatically, set environment variables GITHUB_TOKEN and GITHUB_REPO and use the provided function in the notebook. Use with caution."
      ]
    },
    {
      "cell_type": "code",
      "execution_count": 52,
      "id": "d59483e2",
      "metadata": {
        "colab": {
          "base_uri": "https://localhost:8080/"
        },
        "id": "d59483e2",
        "outputId": "a006bbad-9d0d-493a-dc59-6bdb6595686a"
      },
      "outputs": [
        {
          "output_type": "stream",
          "name": "stdout",
          "text": [
            "push_to_github function ready\n"
          ]
        }
      ],
      "source": [
        "import base64\n",
        "import os\n",
        "import requests\n",
        "\n",
        "def push_to_github(filepath='/mnt/data/groq_task_notebook.ipynb', repo_env='GITHUB_REPO'):\n",
        "    token = os.getenv('GITHUB_TOKEN')\n",
        "    repo = os.getenv(repo_env)\n",
        "    if not token or not repo:\n",
        "        raise EnvironmentError('Set GITHUB_TOKEN and GITHUB_REPO environment variables first')\n",
        "    with open(filepath,'rb') as f:\n",
        "        content_b = f.read()\n",
        "    content = base64.b64encode(content_b).decode('utf-8')\n",
        "    url = f'https://api.github.com/repos/{repo}/contents/{os.path.basename(filepath)}'\n",
        "    data = {\n",
        "        'message': 'Add Groq task notebook',\n",
        "        'content': content\n",
        "    }\n",
        "    headers = {'Authorization': f'token {token}'}\n",
        "    resp = requests.put(url, json=data, headers=headers)\n",
        "    return resp.status_code, resp.json()\n",
        "\n",
        "print('push_to_github function ready')\n"
      ]
    }
  ],
  "metadata": {
    "colab": {
      "provenance": [],
      "include_colab_link": true
    },
    "language_info": {
      "name": "python"
    },
    "kernelspec": {
      "name": "python3",
      "display_name": "Python 3"
    }
  },
  "nbformat": 4,
  "nbformat_minor": 5
}